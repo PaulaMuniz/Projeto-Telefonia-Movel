{
 "cells": [
  {
   "cell_type": "markdown",
   "id": "4f4cfcc7",
   "metadata": {},
   "source": [
    "# Projeto de Telefonia Móvel\n",
    "### Este projeto tem por objetivo extrair os dados da fatura detalhada da operadora e transformar os dados em informações importantes e insights sobre a conta"
   ]
  },
  {
   "cell_type": "markdown",
   "id": "6a553925",
   "metadata": {},
   "source": [
    "##### Importando as bibliotecas necessárias"
   ]
  },
  {
   "cell_type": "code",
   "execution_count": 1,
   "id": "0440efa8",
   "metadata": {},
   "outputs": [],
   "source": [
    "import pdfplumber\n",
    "import re\n",
    "import pandas as pd\n",
    "from pathlib import Path\n",
    "import numpy as np"
   ]
  },
  {
   "cell_type": "markdown",
   "id": "29cf6de6",
   "metadata": {},
   "source": [
    "#### Os dados foram importados do pdf com a biblioteca pdflumber, depois transformados em txt com o auxílio do Path\n"
   ]
  },
  {
   "cell_type": "code",
   "execution_count": null,
   "id": "66aba965",
   "metadata": {},
   "outputs": [],
   "source": [
    "\n",
    "\n",
    "pdf_url='/home/paula/Downloads/vivotest.pdf'\n",
    "with pdfplumber.open(pdf_url) as pdf:\n",
    "    \n",
    "    first_page = pdf.pages[0]\n",
    "    pages = pdf.pages\n",
    "    \n",
    "    with Path('/home/paula/Downloads/exemplo.txt').open(mode='w') as output_file:\n",
    "        text=''\n",
    "        for i,pg in enumerate(pages):\n",
    "            text+= pages[i].extract_text()\n",
    "        output_file.write(text)\n",
    "    "
   ]
  },
  {
   "cell_type": "markdown",
   "id": "f03c9ba9",
   "metadata": {},
   "source": [
    "#### Depois de extraídos, os dados precisavam ser padronizados. Com o auxílio da biblioteca RE, foi criado uma expressão regular para localizar os textos que continham formatos diferentes, logo depois foram removidas informações irrelevantes do plano para este estudo através do método replace."
   ]
  },
  {
   "cell_type": "code",
   "execution_count": 3,
   "id": "c3c9408f",
   "metadata": {},
   "outputs": [],
   "source": [
    "busca='SMART EMPRESAS'\n",
    "dadosFatura=''\n",
    "dadosGerais=''\n",
    "texto=''\n",
    "with open('/home/paula/Downloads/exemplo.txt', 'r', encoding = 'utf-8') as arquivo:\n",
    "        \n",
    "    for linha in arquivo: \n",
    "        strug=' TE'\n",
    "        strug1='MAS'\n",
    "        if busca in linha:\n",
    "                if (re.search(r'\\s[0-9]*\\s',linha)):\n",
    "                    if strug in linha:\n",
    "                        texto= linha.replace(' TE', '')\n",
    "                    elif strug1 in linha:\n",
    "                        texto= linha.replace(' MAS', '')\n",
    "                    else:\n",
    "                        texto= linha\n",
    "                    dadosGerais+=texto\n",
    "                elif strug in linha:\n",
    "                    texto= linha.replace(' TE', '')\n",
    "                    dadosFatura+=texto\n",
    "                \n",
    "                elif strug1 in linha:\n",
    "                    texto= linha.replace(' MAS', '')\n",
    "                    dadosFatura+=texto\n",
    "                    \n",
    "                else:\n",
    "                    dadosFatura+=linha\n",
    "                \n",
    "                \n",
    "                with Path('/home/paula/Downloads/dadosGeraisPlanos.txt').open(mode='w') as output_file:\n",
    "                    output_file.write(dadosGerais)\n",
    "               \n",
    "                with Path('/home/paula/Downloads/dadosFatura.txt').open(mode='w') as output_file:\n",
    "                    output_file.write(dadosFatura)"
   ]
  },
  {
   "cell_type": "markdown",
   "id": "fc3e5a38",
   "metadata": {},
   "source": [
    "#### Os dados depois de tratados foram armazenados em arquivos diferentes para fazer a composição de dois dataframes bases relacionados à fatura."
   ]
  },
  {
   "cell_type": "code",
   "execution_count": null,
   "id": "1fbbcc1d",
   "metadata": {},
   "outputs": [],
   "source": [
    "dfFatura = pd.read_csv('/home/paula/Downloads/dadosFatura.txt', sep=\"\\n\", header=None, names=[\"coluna\"]) #names=[\"number\", \"tipo\", \"c\"] \n",
    "divisao=dfFatura[\"coluna\"].str.split(\" \")"
   ]
  },
  {
   "cell_type": "code",
   "execution_count": null,
   "id": "a9f92710",
   "metadata": {},
   "outputs": [],
   "source": [
    "numero=divisao.str.get(0)\n",
    "desc1=divisao.str.get(1)\n",
    "desc2=divisao.str.get(2)\n",
    "plan=divisao.str.get(3)\n",
    "period1=divisao.str.get(4)\n",
    "period2=divisao.str.get(5)\n",
    "period3=divisao.str.get(6)\n",
    "price=divisao.str.get(7)"
   ]
  },
  {
   "cell_type": "code",
   "execution_count": null,
   "id": "d434d10d",
   "metadata": {},
   "outputs": [],
   "source": [
    "dfFatura['Numero']=numero\n",
    "dfFatura['desc1']=desc1\n",
    "dfFatura['desc2']=desc2\n",
    "dfFatura['internet']=plan\n",
    "dfFatura['Descrição'] = dfFatura['desc1'] + \" \" + dfFatura['desc2'] + \" \" + dfFatura['internet']\n",
    "dfFatura['Inicio']=period1\n",
    "dfFatura['a']=period2\n",
    "dfFatura['Final']=period3\n",
    "dfFatura['Valor']=price.str.replace(',', '.') #convertendo pontuação\n",
    "dfFatura['Valor']=dfFatura['Valor'].astype('float64')"
   ]
  },
  {
   "cell_type": "code",
   "execution_count": null,
   "id": "6a65f3fc",
   "metadata": {},
   "outputs": [],
   "source": [
    "dfFatura.drop(['coluna'],axis=1,inplace=True)\n",
    "dfFatura.drop(['a'],axis=1,inplace=True)\n",
    "dfFatura.drop(['desc1'],axis=1,inplace=True)\n",
    "dfFatura.drop(['desc2'],axis=1,inplace=True)\n",
    "dfFatura.drop(['internet'],axis=1,inplace=True)\n",
    "dfFatura.head()"
   ]
  },
  {
   "cell_type": "code",
   "execution_count": null,
   "id": "1b1370bc",
   "metadata": {},
   "outputs": [],
   "source": [
    "dfPlan = pd.read_csv('/home/paula/Downloads/dadosGeraisPlanos.txt', sep=\"\\n\", header=None, names=[\"dados\"]) #names=[\"number\", \"tipo\", \"c\"]\n",
    "divisao=dfPlan[\"dados\"].str.split(\" \") "
   ]
  },
  {
   "cell_type": "code",
   "execution_count": null,
   "id": "6637bf6d",
   "metadata": {},
   "outputs": [],
   "source": [
    "desc=divisao.str.get(0)\n",
    "desc0=divisao.str.get(1)\n",
    "internet=divisao.str.get(2)\n",
    "quantidade=divisao.str.get(3)"
   ]
  },
  {
   "cell_type": "code",
   "execution_count": null,
   "id": "6c554fa5",
   "metadata": {},
   "outputs": [],
   "source": [
    "dfPlan['desc1']=desc\n",
    "dfPlan['desc2']=desc0\n",
    "dfPlan['Descrição'] = dfPlan['desc1'] + \" \" + dfPlan['desc2']\n",
    "dfPlan['Internet']=internet\n",
    "dfPlan['Quantidade']=quantidade\n",
    "dfPlan['Quantidade']=dfPlan['Quantidade'].astype('int32')"
   ]
  },
  {
   "cell_type": "code",
   "execution_count": null,
   "id": "6df049d9",
   "metadata": {},
   "outputs": [],
   "source": [
    "dfPlan.drop(['dados'],axis=1,inplace=True)\n",
    "dfPlan.drop(['desc1'],axis=1,inplace=True)\n",
    "dfPlan.drop(['desc2'],axis=1,inplace=True)\n",
    "dfPlan.head()"
   ]
  }
 ],
 "metadata": {
  "kernelspec": {
   "display_name": "Python 3",
   "language": "python",
   "name": "python3"
  },
  "language_info": {
   "codemirror_mode": {
    "name": "ipython",
    "version": 3
   },
   "file_extension": ".py",
   "mimetype": "text/x-python",
   "name": "python",
   "nbconvert_exporter": "python",
   "pygments_lexer": "ipython3",
   "version": "3.8.8"
  }
 },
 "nbformat": 4,
 "nbformat_minor": 5
}
